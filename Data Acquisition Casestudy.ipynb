{
 "cells": [
  {
   "cell_type": "code",
   "execution_count": 35,
   "id": "e9e9f082-4f70-4d36-bc37-46adb028cf0e",
   "metadata": {},
   "outputs": [
    {
     "name": "stdout",
     "output_type": "stream",
     "text": [
      "Requirement already satisfied: mysql-connector-python in /opt/anaconda3/lib/python3.11/site-packages (9.0.0)\n",
      "Note: you may need to restart the kernel to use updated packages.\n"
     ]
    }
   ],
   "source": [
    "pip install mysql-connector-python"
   ]
  },
  {
   "cell_type": "code",
   "execution_count": 36,
   "id": "69536504-a188-4bd6-864f-4337851f33cd",
   "metadata": {},
   "outputs": [],
   "source": [
    "import pandas as pd\n",
    "import mysql.connector"
   ]
  },
  {
   "cell_type": "code",
   "execution_count": 37,
   "id": "574b258e-6cef-4810-8198-964bee41dc40",
   "metadata": {},
   "outputs": [],
   "source": [
    "#dataset imported from data.gov as csv file"
   ]
  },
  {
   "cell_type": "code",
   "execution_count": 38,
   "id": "be2f5e0a-901c-4724-a4b4-c7b9752361b3",
   "metadata": {},
   "outputs": [
    {
     "data": {
      "text/html": [
       "<div>\n",
       "<style scoped>\n",
       "    .dataframe tbody tr th:only-of-type {\n",
       "        vertical-align: middle;\n",
       "    }\n",
       "\n",
       "    .dataframe tbody tr th {\n",
       "        vertical-align: top;\n",
       "    }\n",
       "\n",
       "    .dataframe thead th {\n",
       "        text-align: right;\n",
       "    }\n",
       "</style>\n",
       "<table border=\"1\" class=\"dataframe\">\n",
       "  <thead>\n",
       "    <tr style=\"text-align: right;\">\n",
       "      <th></th>\n",
       "      <th>VIN (1-10)</th>\n",
       "      <th>County</th>\n",
       "      <th>City</th>\n",
       "      <th>State</th>\n",
       "      <th>Postal Code</th>\n",
       "      <th>Model Year</th>\n",
       "      <th>Make</th>\n",
       "      <th>Model</th>\n",
       "      <th>Electric Vehicle Type</th>\n",
       "      <th>Clean Alternative Fuel Vehicle (CAFV) Eligibility</th>\n",
       "      <th>Electric Range</th>\n",
       "      <th>Base MSRP</th>\n",
       "      <th>Legislative District</th>\n",
       "      <th>DOL Vehicle ID</th>\n",
       "      <th>Vehicle Location</th>\n",
       "      <th>Electric Utility</th>\n",
       "      <th>2020 Census Tract</th>\n",
       "    </tr>\n",
       "  </thead>\n",
       "  <tbody>\n",
       "    <tr>\n",
       "      <th>0</th>\n",
       "      <td>5YJSA1E22K</td>\n",
       "      <td>King</td>\n",
       "      <td>Seattle</td>\n",
       "      <td>WA</td>\n",
       "      <td>98112.0</td>\n",
       "      <td>2019</td>\n",
       "      <td>TESLA</td>\n",
       "      <td>MODEL S</td>\n",
       "      <td>Battery Electric Vehicle (BEV)</td>\n",
       "      <td>Clean Alternative Fuel Vehicle Eligible</td>\n",
       "      <td>270</td>\n",
       "      <td>0</td>\n",
       "      <td>43.0</td>\n",
       "      <td>202233958</td>\n",
       "      <td>POINT (-122.300312 47.629782)</td>\n",
       "      <td>CITY OF SEATTLE - (WA)|CITY OF TACOMA - (WA)</td>\n",
       "      <td>5.303301e+10</td>\n",
       "    </tr>\n",
       "    <tr>\n",
       "      <th>1</th>\n",
       "      <td>3MW39FS05R</td>\n",
       "      <td>Yakima</td>\n",
       "      <td>Zillah</td>\n",
       "      <td>WA</td>\n",
       "      <td>98953.0</td>\n",
       "      <td>2024</td>\n",
       "      <td>BMW</td>\n",
       "      <td>330E</td>\n",
       "      <td>Plug-in Hybrid Electric Vehicle (PHEV)</td>\n",
       "      <td>Not eligible due to low battery range</td>\n",
       "      <td>20</td>\n",
       "      <td>0</td>\n",
       "      <td>15.0</td>\n",
       "      <td>264425178</td>\n",
       "      <td>POINT (-120.2658133 46.4063477)</td>\n",
       "      <td>PACIFICORP</td>\n",
       "      <td>5.307700e+10</td>\n",
       "    </tr>\n",
       "    <tr>\n",
       "      <th>2</th>\n",
       "      <td>1N4AZ0CP0F</td>\n",
       "      <td>King</td>\n",
       "      <td>Kent</td>\n",
       "      <td>WA</td>\n",
       "      <td>98031.0</td>\n",
       "      <td>2015</td>\n",
       "      <td>NISSAN</td>\n",
       "      <td>LEAF</td>\n",
       "      <td>Battery Electric Vehicle (BEV)</td>\n",
       "      <td>Clean Alternative Fuel Vehicle Eligible</td>\n",
       "      <td>84</td>\n",
       "      <td>0</td>\n",
       "      <td>11.0</td>\n",
       "      <td>114962025</td>\n",
       "      <td>POINT (-122.201564 47.402358)</td>\n",
       "      <td>PUGET SOUND ENERGY INC||CITY OF TACOMA - (WA)</td>\n",
       "      <td>5.303303e+10</td>\n",
       "    </tr>\n",
       "    <tr>\n",
       "      <th>3</th>\n",
       "      <td>5YJSA1H20F</td>\n",
       "      <td>Snohomish</td>\n",
       "      <td>Bothell</td>\n",
       "      <td>WA</td>\n",
       "      <td>98012.0</td>\n",
       "      <td>2015</td>\n",
       "      <td>TESLA</td>\n",
       "      <td>MODEL S</td>\n",
       "      <td>Battery Electric Vehicle (BEV)</td>\n",
       "      <td>Clean Alternative Fuel Vehicle Eligible</td>\n",
       "      <td>208</td>\n",
       "      <td>0</td>\n",
       "      <td>1.0</td>\n",
       "      <td>232724670</td>\n",
       "      <td>POINT (-122.206146 47.839957)</td>\n",
       "      <td>PUGET SOUND ENERGY INC</td>\n",
       "      <td>5.306105e+10</td>\n",
       "    </tr>\n",
       "    <tr>\n",
       "      <th>4</th>\n",
       "      <td>JTMAB3FV1N</td>\n",
       "      <td>Yakima</td>\n",
       "      <td>Yakima</td>\n",
       "      <td>WA</td>\n",
       "      <td>98908.0</td>\n",
       "      <td>2022</td>\n",
       "      <td>TOYOTA</td>\n",
       "      <td>RAV4 PRIME</td>\n",
       "      <td>Plug-in Hybrid Electric Vehicle (PHEV)</td>\n",
       "      <td>Clean Alternative Fuel Vehicle Eligible</td>\n",
       "      <td>42</td>\n",
       "      <td>0</td>\n",
       "      <td>14.0</td>\n",
       "      <td>221023589</td>\n",
       "      <td>POINT (-120.611068 46.596645)</td>\n",
       "      <td>PACIFICORP</td>\n",
       "      <td>5.307700e+10</td>\n",
       "    </tr>\n",
       "  </tbody>\n",
       "</table>\n",
       "</div>"
      ],
      "text/plain": [
       "   VIN (1-10)     County     City State  Postal Code  Model Year    Make  \\\n",
       "0  5YJSA1E22K       King  Seattle    WA      98112.0        2019   TESLA   \n",
       "1  3MW39FS05R     Yakima   Zillah    WA      98953.0        2024     BMW   \n",
       "2  1N4AZ0CP0F       King     Kent    WA      98031.0        2015  NISSAN   \n",
       "3  5YJSA1H20F  Snohomish  Bothell    WA      98012.0        2015   TESLA   \n",
       "4  JTMAB3FV1N     Yakima   Yakima    WA      98908.0        2022  TOYOTA   \n",
       "\n",
       "        Model                   Electric Vehicle Type  \\\n",
       "0     MODEL S          Battery Electric Vehicle (BEV)   \n",
       "1        330E  Plug-in Hybrid Electric Vehicle (PHEV)   \n",
       "2        LEAF          Battery Electric Vehicle (BEV)   \n",
       "3     MODEL S          Battery Electric Vehicle (BEV)   \n",
       "4  RAV4 PRIME  Plug-in Hybrid Electric Vehicle (PHEV)   \n",
       "\n",
       "  Clean Alternative Fuel Vehicle (CAFV) Eligibility  Electric Range  \\\n",
       "0           Clean Alternative Fuel Vehicle Eligible             270   \n",
       "1             Not eligible due to low battery range              20   \n",
       "2           Clean Alternative Fuel Vehicle Eligible              84   \n",
       "3           Clean Alternative Fuel Vehicle Eligible             208   \n",
       "4           Clean Alternative Fuel Vehicle Eligible              42   \n",
       "\n",
       "   Base MSRP  Legislative District  DOL Vehicle ID  \\\n",
       "0          0                  43.0       202233958   \n",
       "1          0                  15.0       264425178   \n",
       "2          0                  11.0       114962025   \n",
       "3          0                   1.0       232724670   \n",
       "4          0                  14.0       221023589   \n",
       "\n",
       "                  Vehicle Location  \\\n",
       "0    POINT (-122.300312 47.629782)   \n",
       "1  POINT (-120.2658133 46.4063477)   \n",
       "2    POINT (-122.201564 47.402358)   \n",
       "3    POINT (-122.206146 47.839957)   \n",
       "4    POINT (-120.611068 46.596645)   \n",
       "\n",
       "                                Electric Utility  2020 Census Tract  \n",
       "0   CITY OF SEATTLE - (WA)|CITY OF TACOMA - (WA)       5.303301e+10  \n",
       "1                                     PACIFICORP       5.307700e+10  \n",
       "2  PUGET SOUND ENERGY INC||CITY OF TACOMA - (WA)       5.303303e+10  \n",
       "3                         PUGET SOUND ENERGY INC       5.306105e+10  \n",
       "4                                     PACIFICORP       5.307700e+10  "
      ]
     },
     "execution_count": 38,
     "metadata": {},
     "output_type": "execute_result"
    }
   ],
   "source": [
    "vehicle_data=pd.read_csv(\"/Users/abinbi/Downloads/Electric_Vehicle_Population_Data.csv\",) #delimiter is used to read the seperation like comas\n",
    "vehicle_data.head()"
   ]
  },
  {
   "cell_type": "code",
   "execution_count": 39,
   "id": "2f9a4e9b-9da8-4b43-b48f-3c879cf6f9ce",
   "metadata": {},
   "outputs": [
    {
     "name": "stdout",
     "output_type": "stream",
     "text": [
      "         Postal Code     Model Year  Electric Range      Base MSRP  \\\n",
      "count  191403.000000  191407.000000   191407.000000  191407.000000   \n",
      "mean    98177.823603    2020.732335       55.657442     994.773258   \n",
      "std      2392.808886       2.990487       90.151930    8050.523372   \n",
      "min      1731.000000    1997.000000        0.000000       0.000000   \n",
      "25%     98052.000000    2019.000000        0.000000       0.000000   \n",
      "50%     98125.000000    2022.000000        0.000000       0.000000   \n",
      "75%     98371.000000    2023.000000       72.000000       0.000000   \n",
      "max     99577.000000    2025.000000      337.000000  845000.000000   \n",
      "\n",
      "       Legislative District  DOL Vehicle ID  2020 Census Tract  \n",
      "count         190993.000000    1.914070e+05       1.914030e+05  \n",
      "mean              29.016880    2.237202e+08       5.297759e+10  \n",
      "std               14.909417    7.398058e+07       1.573588e+09  \n",
      "min                1.000000    4.385000e+03       1.001020e+09  \n",
      "25%               17.000000    1.861622e+08       5.303301e+10  \n",
      "50%               33.000000    2.328176e+08       5.303303e+10  \n",
      "75%               42.000000    2.589708e+08       5.305307e+10  \n",
      "max               49.000000    4.792548e+08       5.602100e+10  \n"
     ]
    }
   ],
   "source": [
    "print(vehicle_data.describe())"
   ]
  },
  {
   "cell_type": "code",
   "execution_count": 40,
   "id": "32b91a8e-4444-4f34-a21c-9e0240ec9e6f",
   "metadata": {},
   "outputs": [
    {
     "data": {
      "text/plain": [
       "(191407, 17)"
      ]
     },
     "execution_count": 40,
     "metadata": {},
     "output_type": "execute_result"
    }
   ],
   "source": [
    "datasetsize=vehicle_data.shape\n",
    "datasetsize"
   ]
  },
  {
   "cell_type": "code",
   "execution_count": 41,
   "id": "0cbc65f0-2508-4420-b3de-6e0ae5ad2cd8",
   "metadata": {},
   "outputs": [
    {
     "data": {
      "text/plain": [
       "VIN (1-10)                                            object\n",
       "County                                                object\n",
       "City                                                  object\n",
       "State                                                 object\n",
       "Postal Code                                          float64\n",
       "Model Year                                             int64\n",
       "Make                                                  object\n",
       "Model                                                 object\n",
       "Electric Vehicle Type                                 object\n",
       "Clean Alternative Fuel Vehicle (CAFV) Eligibility     object\n",
       "Electric Range                                         int64\n",
       "Base MSRP                                              int64\n",
       "Legislative District                                 float64\n",
       "DOL Vehicle ID                                         int64\n",
       "Vehicle Location                                      object\n",
       "Electric Utility                                      object\n",
       "2020 Census Tract                                    float64\n",
       "dtype: object"
      ]
     },
     "execution_count": 41,
     "metadata": {},
     "output_type": "execute_result"
    }
   ],
   "source": [
    "datatype=vehicle_data.dtypes\n",
    "datatype"
   ]
  },
  {
   "cell_type": "code",
   "execution_count": 42,
   "id": "47435cd9-6d28-42e2-bbb1-07ec587236b5",
   "metadata": {},
   "outputs": [
    {
     "name": "stdout",
     "output_type": "stream",
     "text": [
      "VIN (1-10)                                             0\n",
      "County                                                 4\n",
      "City                                                   4\n",
      "State                                                  0\n",
      "Postal Code                                            4\n",
      "Model Year                                             0\n",
      "Make                                                   0\n",
      "Model                                                  0\n",
      "Electric Vehicle Type                                  0\n",
      "Clean Alternative Fuel Vehicle (CAFV) Eligibility      0\n",
      "Electric Range                                         0\n",
      "Base MSRP                                              0\n",
      "Legislative District                                 414\n",
      "DOL Vehicle ID                                         0\n",
      "Vehicle Location                                       8\n",
      "Electric Utility                                       4\n",
      "2020 Census Tract                                      4\n",
      "dtype: int64\n"
     ]
    }
   ],
   "source": [
    "missingvalues = vehicle_data.isnull().sum()\n",
    "print(missingvalues)"
   ]
  },
  {
   "cell_type": "code",
   "execution_count": 43,
   "id": "0c17ab8c-dcf2-4374-b270-ee11b551c642",
   "metadata": {},
   "outputs": [
    {
     "name": "stdout",
     "output_type": "stream",
     "text": [
      "County\n",
      "King          99076\n",
      "Snohomish     22643\n",
      "Pierce        14932\n",
      "Clark         11335\n",
      "Thurston       6969\n",
      "              ...  \n",
      "New York          1\n",
      "Miami-Dade        1\n",
      "Mobile            1\n",
      "Beaufort          1\n",
      "Pitt              1\n",
      "Name: count, Length: 197, dtype: int64\n"
     ]
    }
   ],
   "source": [
    "uniquevaluescounts = vehicle_data['County'].value_counts()\n",
    "print(uniquevaluescounts)"
   ]
  },
  {
   "cell_type": "code",
   "execution_count": 44,
   "id": "84db6278-82e8-4db4-ac7b-d1e1f90afe48",
   "metadata": {},
   "outputs": [
    {
     "name": "stdout",
     "output_type": "stream",
     "text": [
      "Mean: 55.65744199532932\n",
      "Median: 0.0\n",
      "Standard Deviation: 90.15192984184792\n"
     ]
    }
   ],
   "source": [
    "meanvalue = vehicle_data['Electric Range'].mean()\n",
    "medianvalue = vehicle_data['Electric Range'].median()\n",
    "stddeviation = vehicle_data['Electric Range'].std()\n",
    "\n",
    "print(\"Mean:\", meanvalue)\n",
    "print(\"Median:\", medianvalue)\n",
    "print(\"Standard Deviation:\", stddeviation)"
   ]
  },
  {
   "cell_type": "code",
   "execution_count": 45,
   "id": "b139e54d-4053-4ce3-9a4b-1e07aad8240e",
   "metadata": {},
   "outputs": [
    {
     "name": "stdout",
     "output_type": "stream",
     "text": [
      "Potential Outliers:\n",
      "0         270\n",
      "3         208\n",
      "5         220\n",
      "6         215\n",
      "8         210\n",
      "         ... \n",
      "191394    291\n",
      "191395    291\n",
      "191398    208\n",
      "191399    215\n",
      "191402    220\n",
      "Name: Electric Range, Length: 32894, dtype: int64\n"
     ]
    }
   ],
   "source": [
    "numericalcolumn = vehicle_data['Electric Range']\n",
    "\n",
    "Q1 = numericalcolumn.quantile(0.25)\n",
    "Q3 = numericalcolumn.quantile(0.75)\n",
    "IQR = Q3 - Q1\n",
    "\n",
    "lowerbound = Q1 - 1.5 * IQR\n",
    "upperbound = Q3 + 1.5 * IQR\n",
    "\n",
    "potentialoutliers = numericalcolumn[(numericalcolumn < lowerbound) | (numericalcolumn > upperbound)]\n",
    "print(\"Potential Outliers:\")\n",
    "print(potentialoutliers)"
   ]
  },
  {
   "cell_type": "code",
   "execution_count": 49,
   "id": "e957aa4f-e6e2-4cd4-b51f-bd0da8892bae",
   "metadata": {},
   "outputs": [
    {
     "data": {
      "text/html": [
       "<div>\n",
       "<style scoped>\n",
       "    .dataframe tbody tr th:only-of-type {\n",
       "        vertical-align: middle;\n",
       "    }\n",
       "\n",
       "    .dataframe tbody tr th {\n",
       "        vertical-align: top;\n",
       "    }\n",
       "\n",
       "    .dataframe thead th {\n",
       "        text-align: right;\n",
       "    }\n",
       "</style>\n",
       "<table border=\"1\" class=\"dataframe\">\n",
       "  <thead>\n",
       "    <tr style=\"text-align: right;\">\n",
       "      <th></th>\n",
       "      <th>Postal Code</th>\n",
       "      <th>Model Year</th>\n",
       "      <th>Electric Range</th>\n",
       "      <th>Base MSRP</th>\n",
       "      <th>Legislative District</th>\n",
       "      <th>DOL Vehicle ID</th>\n",
       "      <th>2020 Census Tract</th>\n",
       "    </tr>\n",
       "  </thead>\n",
       "  <tbody>\n",
       "    <tr>\n",
       "      <th>0</th>\n",
       "      <td>98112.0</td>\n",
       "      <td>2019</td>\n",
       "      <td>270</td>\n",
       "      <td>0</td>\n",
       "      <td>43.0</td>\n",
       "      <td>202233958</td>\n",
       "      <td>5.303301e+10</td>\n",
       "    </tr>\n",
       "    <tr>\n",
       "      <th>1</th>\n",
       "      <td>98953.0</td>\n",
       "      <td>2024</td>\n",
       "      <td>20</td>\n",
       "      <td>0</td>\n",
       "      <td>15.0</td>\n",
       "      <td>264425178</td>\n",
       "      <td>5.307700e+10</td>\n",
       "    </tr>\n",
       "    <tr>\n",
       "      <th>2</th>\n",
       "      <td>98031.0</td>\n",
       "      <td>2015</td>\n",
       "      <td>84</td>\n",
       "      <td>0</td>\n",
       "      <td>11.0</td>\n",
       "      <td>114962025</td>\n",
       "      <td>5.303303e+10</td>\n",
       "    </tr>\n",
       "    <tr>\n",
       "      <th>3</th>\n",
       "      <td>98012.0</td>\n",
       "      <td>2015</td>\n",
       "      <td>208</td>\n",
       "      <td>0</td>\n",
       "      <td>1.0</td>\n",
       "      <td>232724670</td>\n",
       "      <td>5.306105e+10</td>\n",
       "    </tr>\n",
       "    <tr>\n",
       "      <th>4</th>\n",
       "      <td>98908.0</td>\n",
       "      <td>2022</td>\n",
       "      <td>42</td>\n",
       "      <td>0</td>\n",
       "      <td>14.0</td>\n",
       "      <td>221023589</td>\n",
       "      <td>5.307700e+10</td>\n",
       "    </tr>\n",
       "  </tbody>\n",
       "</table>\n",
       "</div>"
      ],
      "text/plain": [
       "   Postal Code  Model Year  Electric Range  Base MSRP  Legislative District  \\\n",
       "0      98112.0        2019             270          0                  43.0   \n",
       "1      98953.0        2024              20          0                  15.0   \n",
       "2      98031.0        2015              84          0                  11.0   \n",
       "3      98012.0        2015             208          0                   1.0   \n",
       "4      98908.0        2022              42          0                  14.0   \n",
       "\n",
       "   DOL Vehicle ID  2020 Census Tract  \n",
       "0       202233958       5.303301e+10  \n",
       "1       264425178       5.307700e+10  \n",
       "2       114962025       5.303303e+10  \n",
       "3       232724670       5.306105e+10  \n",
       "4       221023589       5.307700e+10  "
      ]
     },
     "execution_count": 49,
     "metadata": {},
     "output_type": "execute_result"
    }
   ],
   "source": [
    "numerical_data = vehicle_data.select_dtypes(include=['number'])\n",
    "numerical_data.head()"
   ]
  },
  {
   "cell_type": "code",
   "execution_count": 53,
   "id": "934262a8-1f11-4748-808a-fee0dec3bc69",
   "metadata": {},
   "outputs": [
    {
     "data": {
      "text/html": [
       "<div>\n",
       "<style scoped>\n",
       "    .dataframe tbody tr th:only-of-type {\n",
       "        vertical-align: middle;\n",
       "    }\n",
       "\n",
       "    .dataframe tbody tr th {\n",
       "        vertical-align: top;\n",
       "    }\n",
       "\n",
       "    .dataframe thead th {\n",
       "        text-align: right;\n",
       "    }\n",
       "</style>\n",
       "<table border=\"1\" class=\"dataframe\">\n",
       "  <thead>\n",
       "    <tr style=\"text-align: right;\">\n",
       "      <th></th>\n",
       "      <th>Postal Code</th>\n",
       "      <th>Model Year</th>\n",
       "      <th>Electric Range</th>\n",
       "      <th>Base MSRP</th>\n",
       "      <th>Legislative District</th>\n",
       "      <th>DOL Vehicle ID</th>\n",
       "      <th>2020 Census Tract</th>\n",
       "    </tr>\n",
       "  </thead>\n",
       "  <tbody>\n",
       "    <tr>\n",
       "      <th>Postal Code</th>\n",
       "      <td>1.000000</td>\n",
       "      <td>-0.001232</td>\n",
       "      <td>-0.003008</td>\n",
       "      <td>-0.001316</td>\n",
       "      <td>-0.409859</td>\n",
       "      <td>0.006430</td>\n",
       "      <td>0.484481</td>\n",
       "    </tr>\n",
       "    <tr>\n",
       "      <th>Model Year</th>\n",
       "      <td>-0.001232</td>\n",
       "      <td>1.000000</td>\n",
       "      <td>-0.491698</td>\n",
       "      <td>-0.230325</td>\n",
       "      <td>-0.017281</td>\n",
       "      <td>0.166556</td>\n",
       "      <td>0.005767</td>\n",
       "    </tr>\n",
       "    <tr>\n",
       "      <th>Electric Range</th>\n",
       "      <td>-0.003008</td>\n",
       "      <td>-0.491698</td>\n",
       "      <td>1.000000</td>\n",
       "      <td>0.110358</td>\n",
       "      <td>0.020369</td>\n",
       "      <td>-0.113483</td>\n",
       "      <td>-0.002330</td>\n",
       "    </tr>\n",
       "    <tr>\n",
       "      <th>Base MSRP</th>\n",
       "      <td>-0.001316</td>\n",
       "      <td>-0.230325</td>\n",
       "      <td>0.110358</td>\n",
       "      <td>1.000000</td>\n",
       "      <td>0.011660</td>\n",
       "      <td>-0.031628</td>\n",
       "      <td>0.002762</td>\n",
       "    </tr>\n",
       "    <tr>\n",
       "      <th>Legislative District</th>\n",
       "      <td>-0.409859</td>\n",
       "      <td>-0.017281</td>\n",
       "      <td>0.020369</td>\n",
       "      <td>0.011660</td>\n",
       "      <td>1.000000</td>\n",
       "      <td>-0.010663</td>\n",
       "      <td>-0.101400</td>\n",
       "    </tr>\n",
       "    <tr>\n",
       "      <th>DOL Vehicle ID</th>\n",
       "      <td>0.006430</td>\n",
       "      <td>0.166556</td>\n",
       "      <td>-0.113483</td>\n",
       "      <td>-0.031628</td>\n",
       "      <td>-0.010663</td>\n",
       "      <td>1.000000</td>\n",
       "      <td>0.004567</td>\n",
       "    </tr>\n",
       "    <tr>\n",
       "      <th>2020 Census Tract</th>\n",
       "      <td>0.484481</td>\n",
       "      <td>0.005767</td>\n",
       "      <td>-0.002330</td>\n",
       "      <td>0.002762</td>\n",
       "      <td>-0.101400</td>\n",
       "      <td>0.004567</td>\n",
       "      <td>1.000000</td>\n",
       "    </tr>\n",
       "  </tbody>\n",
       "</table>\n",
       "</div>"
      ],
      "text/plain": [
       "                      Postal Code  Model Year  Electric Range  Base MSRP  \\\n",
       "Postal Code              1.000000   -0.001232       -0.003008  -0.001316   \n",
       "Model Year              -0.001232    1.000000       -0.491698  -0.230325   \n",
       "Electric Range          -0.003008   -0.491698        1.000000   0.110358   \n",
       "Base MSRP               -0.001316   -0.230325        0.110358   1.000000   \n",
       "Legislative District    -0.409859   -0.017281        0.020369   0.011660   \n",
       "DOL Vehicle ID           0.006430    0.166556       -0.113483  -0.031628   \n",
       "2020 Census Tract        0.484481    0.005767       -0.002330   0.002762   \n",
       "\n",
       "                      Legislative District  DOL Vehicle ID  2020 Census Tract  \n",
       "Postal Code                      -0.409859        0.006430           0.484481  \n",
       "Model Year                       -0.017281        0.166556           0.005767  \n",
       "Electric Range                    0.020369       -0.113483          -0.002330  \n",
       "Base MSRP                         0.011660       -0.031628           0.002762  \n",
       "Legislative District              1.000000       -0.010663          -0.101400  \n",
       "DOL Vehicle ID                   -0.010663        1.000000           0.004567  \n",
       "2020 Census Tract                -0.101400        0.004567           1.000000  "
      ]
     },
     "execution_count": 53,
     "metadata": {},
     "output_type": "execute_result"
    }
   ],
   "source": [
    "correlationmatrix=numerical_data.corr()\n",
    "correlationmatrix"
   ]
  },
  {
   "cell_type": "code",
   "execution_count": 47,
   "id": "3e8f2ba8-58db-456c-8e38-94a7b7781f12",
   "metadata": {},
   "outputs": [
    {
     "name": "stdout",
     "output_type": "stream",
     "text": [
      "                     Electric Range         \n",
      "                               mean      sum\n",
      "Make                                        \n",
      "ACURA                      0.000000        0\n",
      "ALFA ROMEO                33.000000     1848\n",
      "AUDI                      47.332905   184125\n",
      "AZURE DYNAMICS            56.000000      448\n",
      "BENTLEY                   19.666667       59\n",
      "BMW                       33.215063   265488\n",
      "CADILLAC                   5.831522     3219\n",
      "CHEVROLET                 94.139585  1348173\n",
      "CHRYSLER                  32.188918   109217\n",
      "DODGE                     32.000000    19808\n",
      "FIAT                      85.628681    66876\n",
      "FISKER                     2.005525      363\n",
      "FORD                       9.966063   100139\n",
      "GENESIS                    0.000000        0\n",
      "GMC                        0.000000        0\n",
      "HONDA                     45.569428    39053\n",
      "HYUNDAI                   18.363874    91397\n",
      "JAGUAR                   204.000000    47736\n",
      "JEEP                      22.339071   111606\n",
      "KIA                       40.927113   354879\n",
      "LAND ROVER                27.400000     1644\n",
      "LEXUS                     20.701940    11738\n",
      "LINCOLN                   23.590747     6629\n",
      "LUCID                      0.000000        0\n",
      "MAZDA                     25.731497    14950\n",
      "MERCEDES-BENZ              9.297646    16587\n",
      "MINI                      17.003049    16731\n",
      "MITSUBISHI                30.900602    30777\n",
      "NISSAN                    78.761781  1121489\n",
      "POLESTAR                  37.716720    35416\n",
      "PORSCHE                   44.820643    52978\n",
      "RAM                        0.000000        0\n",
      "RIVIAN                     0.000000        0\n",
      "ROLLS ROYCE                0.000000        0\n",
      "SMART                     62.084942    16080\n",
      "SUBARU                     1.209278     1173\n",
      "TESLA                     73.131322  6192029\n",
      "TH!NK                    100.000000      500\n",
      "TOYOTA                    27.728172   199116\n",
      "VOLKSWAGEN                21.299001   115185\n",
      "VOLVO                     16.886999    75468\n",
      "WHEEGO ELECTRIC CARS     100.000000      300\n"
     ]
    }
   ],
   "source": [
    "groupeddata = vehicle_data.groupby('Make')[['Electric Range']].agg(['mean', 'sum'])\n",
    "print(groupeddata)"
   ]
  },
  {
   "cell_type": "code",
   "execution_count": 62,
   "id": "d55eeb66-5c4a-4c5d-8d96-a62380f55fc4",
   "metadata": {},
   "outputs": [
    {
     "data": {
      "image/png": "[encoded data removed]",
      "text/plain": [
       "<Figure size 640x480 with 1 Axes>"
      ]
     },
     "metadata": {},
     "output_type": "display_data"
    },
    {
     "data": {
      "text/plain": [
       "<Figure size 1000x600 with 0 Axes>"
      ]
     },
     "metadata": {},
     "output_type": "display_data"
    }
   ],
   "source": [
    "import matplotlib.pyplot as plt\n",
    "\n",
    "vehicle_data.plot.scatter(x='Model Year', y='Electric Range', color='green')  # Specify the x and y variables for the scatter plot\n",
    "plt.title('Model Year vs. Electric Range')\n",
    "plt.xlabel('Model Year')\n",
    "plt.ylabel('Electric Range')\n",
    "plt.figure(figsize=(10, 6))\n",
    "plt.show()"
   ]
  }
 ],
 "metadata": {
  "kernelspec": {
   "display_name": "Python 3 (ipykernel)",
   "language": "python",
   "name": "python3"
  },
  "language_info": {
   "codemirror_mode": {
    "name": "ipython",
    "version": 3
   },
   "file_extension": ".py",
   "mimetype": "text/x-python",
   "name": "python",
   "nbconvert_exporter": "python",
   "pygments_lexer": "ipython3",
   "version": "3.11.7"
  }
 },
 "nbformat": 4,
 "nbformat_minor": 5
}
