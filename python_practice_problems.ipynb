{
  "nbformat": 4,
  "nbformat_minor": 0,
  "metadata": {
    "colab": {
      "provenance": []
    },
    "kernelspec": {
      "name": "python3",
      "display_name": "Python 3"
    },
    "language_info": {
      "name": "python"
    }
  },
  "cells": [
    {
      "cell_type": "code",
      "execution_count": 5,
      "metadata": {
        "colab": {
          "base_uri": "https://localhost:8080/"
        },
        "id": "1o7qiTufmEDQ",
        "outputId": "bd7432fe-5810-4a59-9278-3d2132c7d6e5"
      },
      "outputs": [
        {
          "output_type": "execute_result",
          "data": {
            "text/plain": [
              "28.274333882308138"
            ]
          },
          "metadata": {},
          "execution_count": 5
        }
      ],
      "source": [
        "from math import pi\n",
        "radius= 3\n",
        "area= pi*radius**2\n",
        "area"
      ]
    },
    {
      "cell_type": "code",
      "source": [
        "#Q1\n",
        "radius= float(input(\"enter the radius of the circle\"))\n",
        "area_of_the_circle= pi*radius**2\n",
        "print ('area of the cirle:',area_of_the_circle)"
      ],
      "metadata": {
        "colab": {
          "base_uri": "https://localhost:8080/"
        },
        "id": "oxSDS4oopD_B",
        "outputId": "5f2bce90-7996-4526-de8a-54dcc008b61a"
      },
      "execution_count": 8,
      "outputs": [
        {
          "output_type": "stream",
          "name": "stdout",
          "text": [
            "enter the radius of the circle3\n",
            "area of the cirle: 28.274333882308138\n"
          ]
        }
      ]
    },
    {
      "cell_type": "code",
      "source": [
        "#Q2\n",
        "name = input('Enter the Name')\n",
        "roll_no = input('Enter the Roll No')\n",
        "mark = input('Enter the mark')\n",
        "print('Name:', name)\n",
        "print('Roll No:', roll_no)\n",
        "print('Marks:', mark)"
      ],
      "metadata": {
        "colab": {
          "base_uri": "https://localhost:8080/"
        },
        "id": "6pKEghBSqfVB",
        "outputId": "60e2aef4-5894-48de-f776-15eb145ecb80"
      },
      "execution_count": 9,
      "outputs": [
        {
          "output_type": "stream",
          "name": "stdout",
          "text": [
            "Enter the NameABI\n",
            "Enter the Roll No57\n",
            "Enter the mark88\n",
            "Name: ABI\n",
            "Roll No: 57\n",
            "Marks: 88\n"
          ]
        }
      ]
    },
    {
      "cell_type": "code",
      "source": [
        "#Q3\n",
        "numbers_str = input('Enter the numbers')\n",
        "numbers = [int(x) for x in numbers_str.split(',')]\n",
        "max_num = max(numbers)\n",
        "print('Maximum number:', max_num)\n"
      ],
      "metadata": {
        "colab": {
          "base_uri": "https://localhost:8080/"
        },
        "id": "5N0-PB540FaZ",
        "outputId": "6c59ec58-9514-4282-bf4d-d3a15dfa4a95"
      },
      "execution_count": 10,
      "outputs": [
        {
          "output_type": "stream",
          "name": "stdout",
          "text": [
            "Enter the numbers11,66,73,1\n",
            "Maximum number: 73\n"
          ]
        }
      ]
    },
    {
      "cell_type": "code",
      "source": [
        "#Q4\n",
        "previous_num = 0\n",
        "\n",
        "for x in range(1, 11):\n",
        "    sum = previous_num + x\n",
        "    print(\"Current Number\", x, \"Previous Number\", previous_num, \"Sum:\", sum)\n",
        "    previous_num = x"
      ],
      "metadata": {
        "colab": {
          "base_uri": "https://localhost:8080/"
        },
        "id": "unEm2rnWwymz",
        "outputId": "c6afe432-3114-47aa-d26f-a04b1ab9c353"
      },
      "execution_count": 11,
      "outputs": [
        {
          "output_type": "stream",
          "name": "stdout",
          "text": [
            "Current Number 1 Previous Number 0 Sum: 1\n",
            "Current Number 2 Previous Number 1 Sum: 3\n",
            "Current Number 3 Previous Number 2 Sum: 5\n",
            "Current Number 4 Previous Number 3 Sum: 7\n",
            "Current Number 5 Previous Number 4 Sum: 9\n",
            "Current Number 6 Previous Number 5 Sum: 11\n",
            "Current Number 7 Previous Number 6 Sum: 13\n",
            "Current Number 8 Previous Number 7 Sum: 15\n",
            "Current Number 9 Previous Number 8 Sum: 17\n",
            "Current Number 10 Previous Number 9 Sum: 19\n"
          ]
        }
      ]
    },
    {
      "cell_type": "code",
      "source": [
        "#Q5\n",
        "numbers = input('Enter the numbers:')\n",
        "numbers = [int(x) for x in numbers.split(',')]\n",
        "divisible_by_5 = [num for num in numbers if num % 5 == 0]\n",
        "print(' ,' .join(map(str, divisible_by_5)))"
      ],
      "metadata": {
        "colab": {
          "base_uri": "https://localhost:8080/"
        },
        "id": "rHVmK3I3EsFZ",
        "outputId": "202f75a7-978d-47a6-f1f7-87be8fe1408b"
      },
      "execution_count": 19,
      "outputs": [
        {
          "output_type": "stream",
          "name": "stdout",
          "text": [
            "Enter the numbers:10,12,15,17,20\n",
            "10 ,15 ,20\n"
          ]
        }
      ]
    },
    {
      "cell_type": "code",
      "source": [
        "#Q6\n",
        "x = int(input(\"enter a  positive number\"))\n",
        "if x>1:\n",
        "  for i in range(2,x):\n",
        "    if (x%i)==0:\n",
        "      print(x, 'is not a prime number')\n",
        "      break\n",
        "  else:\n",
        "    print(x,'is a prime number')\n",
        "\n"
      ],
      "metadata": {
        "colab": {
          "base_uri": "https://localhost:8080/"
        },
        "id": "TLdjsV8jGvlP",
        "outputId": "973481a7-6c01-47af-8d34-5442030d62ce"
      },
      "execution_count": 26,
      "outputs": [
        {
          "output_type": "stream",
          "name": "stdout",
          "text": [
            "enter a  positive number9\n",
            "9 is not a prime number\n"
          ]
        }
      ]
    },
    {
      "cell_type": "code",
      "source": [
        "#Q7\n",
        "numbers= input('Enter the numbers:')\n",
        "numbers_=reversed(numbers.split(','))\n",
        "print(','.join(numbers_))"
      ],
      "metadata": {
        "colab": {
          "base_uri": "https://localhost:8080/"
        },
        "id": "qKLQ-wRtJId2",
        "outputId": "649204e2-1dc2-4f01-d251-47ae4676e79c"
      },
      "execution_count": 27,
      "outputs": [
        {
          "output_type": "stream",
          "name": "stdout",
          "text": [
            "Enter the numbers:11,12,13,14,15\n",
            "15,14,13,12,11\n"
          ]
        }
      ]
    },
    {
      "cell_type": "code",
      "source": [
        "#Q8\n",
        "for x in range(1,5):\n",
        "  print('*'*x)"
      ],
      "metadata": {
        "colab": {
          "base_uri": "https://localhost:8080/"
        },
        "id": "zBgYnSPbKPTU",
        "outputId": "7c7bfc93-f628-487a-c79f-e8edd6c01ac4"
      },
      "execution_count": 28,
      "outputs": [
        {
          "output_type": "stream",
          "name": "stdout",
          "text": [
            "*\n",
            "**\n",
            "***\n",
            "****\n"
          ]
        }
      ]
    },
    {
      "cell_type": "code",
      "source": [
        "#Q9\n",
        "a=int(input('enter the first number:'))\n",
        "b=int(input('enter the second number:'))\n",
        "c=int(input('enter the third nunber:'))\n",
        "if a>b and a>c:\n",
        "  print(a,'is the bigger')\n",
        "elif b>a and b >c:\n",
        "  print(b, 'is the greatest')\n",
        "else:\n",
        "  print(c,'is the largest')"
      ],
      "metadata": {
        "colab": {
          "base_uri": "https://localhost:8080/"
        },
        "id": "l3wy3tPkKv2C",
        "outputId": "4d4e9fb6-6193-4f45-9192-52506b0ab007"
      },
      "execution_count": 29,
      "outputs": [
        {
          "output_type": "stream",
          "name": "stdout",
          "text": [
            "enter the first number:11\n",
            "enter the second number12\n",
            "enter the third nunber21\n",
            "21 is the largest\n"
          ]
        }
      ]
    },
    {
      "cell_type": "code",
      "source": [
        "#Q10\n",
        "for x in range(1,5):\n",
        "  print('*'*x)\n",
        "for x in range(4,0,-1):\n",
        "  print('*'*x)"
      ],
      "metadata": {
        "colab": {
          "base_uri": "https://localhost:8080/"
        },
        "id": "YR6mZpKsLZtk",
        "outputId": "799d4222-6f02-4cf7-c1d8-30cb6e6bd385"
      },
      "execution_count": 30,
      "outputs": [
        {
          "output_type": "stream",
          "name": "stdout",
          "text": [
            "*\n",
            "**\n",
            "***\n",
            "****\n",
            "****\n",
            "***\n",
            "**\n",
            "*\n"
          ]
        }
      ]
    },
    {
      "cell_type": "code",
      "source": [],
      "metadata": {
        "id": "LrWMBdd4L54h"
      },
      "execution_count": null,
      "outputs": []
    },
    {
      "cell_type": "markdown",
      "source": [
        "**python practice problems part 2**"
      ],
      "metadata": {
        "id": "Zt4HiPOQL7oI"
      }
    },
    {
      "cell_type": "code",
      "source": [
        "#Q1\n",
        "text = input(\"Enter a string value: \")\n",
        "char_counts = {}\n",
        "for char in text:\n",
        "    if char in char_counts:\n",
        "        char_counts[char] += 1\n",
        "    else:\n",
        "        char_counts[char] = 1\n",
        "\n",
        "output = \", \".join([f\"{char}={count}\" for char, count in char_counts.items()])\n",
        "print(output)"
      ],
      "metadata": {
        "colab": {
          "base_uri": "https://localhost:8080/"
        },
        "id": "xWFg85yAMNkO",
        "outputId": "0ddb2daa-359b-4689-afa4-14e87dd6eb78"
      },
      "execution_count": 31,
      "outputs": [
        {
          "output_type": "stream",
          "name": "stdout",
          "text": [
            "Enter a string value: apple\n",
            "a=1, p=2, l=1, e=1\n"
          ]
        }
      ]
    },
    {
      "cell_type": "code",
      "source": [
        "#Q2\n",
        "a=int(input('enter the first number:'))\n",
        "b=int(input('enter the second number:'))\n",
        "c=int(input('enter the third nunber:'))\n",
        "if a>b and a>c:\n",
        "  print(a,'is the bigger')\n",
        "elif b>a and b >c:\n",
        "  print(b, 'is the greatest')\n",
        "else:\n",
        "  print(c,'is the largest')"
      ],
      "metadata": {
        "colab": {
          "base_uri": "https://localhost:8080/"
        },
        "id": "Hy-2ypZKOqI4",
        "outputId": "d64a6381-fc17-42ca-e701-16d5eac99c3f"
      },
      "execution_count": 33,
      "outputs": [
        {
          "output_type": "stream",
          "name": "stdout",
          "text": [
            "enter the first number:5\n",
            "enter the second number:55\n",
            "enter the third nunber:555\n",
            "555 is the largest\n"
          ]
        }
      ]
    },
    {
      "cell_type": "code",
      "source": [
        "#Q3\n",
        "base = int(input(\"Enter the base: \"))\n",
        "exp = int(input(\"Enter the exponent: \"))\n",
        "def exponent(base, exp):\n",
        "  return base**exp\n",
        "result =  exponent(base, exp)\n",
        "print('Exponent:',result)"
      ],
      "metadata": {
        "colab": {
          "base_uri": "https://localhost:8080/"
        },
        "id": "MGgtoHBBPCem",
        "outputId": "9426694a-7b4a-4bab-90bb-3248d6fc6c98"
      },
      "execution_count": 47,
      "outputs": [
        {
          "output_type": "stream",
          "name": "stdout",
          "text": [
            "Enter the base: 2\n",
            "Enter the exponent: 3\n",
            "Exponent: 8\n"
          ]
        }
      ]
    },
    {
      "cell_type": "code",
      "source": [
        "#Q4\n",
        "number = int(input(\"Enter a positive integer: \"))\n",
        "def sum_of_cubes(n):\n",
        "  sum = 0\n",
        "  for i in range(1, n):\n",
        "    sum += i ** 3\n",
        "  return sum\n",
        "result = sum_of_cubes(number)\n",
        "print('Answer:',result)"
      ],
      "metadata": {
        "colab": {
          "base_uri": "https://localhost:8080/"
        },
        "id": "V3jv_BF3PnRf",
        "outputId": "fd810bf6-64a2-48c4-fa9b-4dc12998896e"
      },
      "execution_count": 46,
      "outputs": [
        {
          "output_type": "stream",
          "name": "stdout",
          "text": [
            "Enter a positive integer: 6\n",
            "Answer: 225\n"
          ]
        }
      ]
    },
    {
      "cell_type": "code",
      "source": [
        "#Q5\n",
        "for x in range (1,11):\n",
        "  if x%2==0 and x%5==0:\n",
        "    print(\"FizzBuzz\")\n",
        "  elif x%2==0:\n",
        "    print(\"Fizz\")\n",
        "  elif x%5==0:\n",
        "    print(\"Buzz\")\n",
        "  else:\n",
        "    print(x)\n"
      ],
      "metadata": {
        "colab": {
          "base_uri": "https://localhost:8080/"
        },
        "id": "dni38f6LRsYs",
        "outputId": "5c50d7e6-c55f-48b3-ffb6-63f3545ea8be"
      },
      "execution_count": 49,
      "outputs": [
        {
          "output_type": "stream",
          "name": "stdout",
          "text": [
            "1\n",
            "Fizz\n",
            "3\n",
            "Fizz\n",
            "Buzz\n",
            "Fizz\n",
            "7\n",
            "Fizz\n",
            "9\n",
            "FizzBuzz\n"
          ]
        }
      ]
    },
    {
      "cell_type": "code",
      "source": [
        "#Q6\n",
        "from collections import Counter\n",
        "\n",
        "numbers = input(\"Enter the Numbers: \")\n",
        "numbers_list = [int(x) for x in numbers.split(\",\")]\n",
        "count = Counter(numbers_list)\n",
        "most_frequent_item = count.most_common(1)[0][0]\n",
        "print(\"Most frequent item:\", most_frequent_item)"
      ],
      "metadata": {
        "colab": {
          "base_uri": "https://localhost:8080/"
        },
        "id": "4N6shVeBSuou",
        "outputId": "ab322a1a-b7c1-4524-f713-7734b942fd15"
      },
      "execution_count": 50,
      "outputs": [
        {
          "output_type": "stream",
          "name": "stdout",
          "text": [
            "Enter the Numbers: 2,3,3,3,4,5,2,6,5\n",
            "Most frequent item: 3\n"
          ]
        }
      ]
    },
    {
      "cell_type": "code",
      "source": [
        "#Q7\n",
        "numbers_str = input(\"Enter the numbers: \")\n",
        "numbers_list = [int(x) for x in numbers_str.split(\",\")]\n",
        "def sum_of_squares(numbers):\n",
        "  sum_squares = 0\n",
        "  for number in numbers:\n",
        "    sum_squares += number ** 2\n",
        "  return sum_squares\n",
        "result = sum_of_squares(numbers_list)\n",
        "print(\"Sum of squares:\", result)\n"
      ],
      "metadata": {
        "colab": {
          "base_uri": "https://localhost:8080/"
        },
        "id": "kqxu989xTxI7",
        "outputId": "1164e448-45ac-412a-fe44-912ef2aabbdf"
      },
      "execution_count": 54,
      "outputs": [
        {
          "output_type": "stream",
          "name": "stdout",
          "text": [
            "Enter the numbers: 1,2,3\n",
            "Sum of squares: 14\n"
          ]
        }
      ]
    },
    {
      "cell_type": "code",
      "source": [
        "#Q8\n",
        "for x in range(1, 16):\n",
        "  if x % 2 == 0:\n",
        "    print(x, \"- even\")\n",
        "  else:\n",
        "    print(x, \"- odd\")\n"
      ],
      "metadata": {
        "colab": {
          "base_uri": "https://localhost:8080/"
        },
        "id": "IWJWexMnUzes",
        "outputId": "0d3eb152-c765-45a0-e205-9047d2374895"
      },
      "execution_count": 55,
      "outputs": [
        {
          "output_type": "stream",
          "name": "stdout",
          "text": [
            "1 - odd\n",
            "2 - even\n",
            "3 - odd\n",
            "4 - even\n",
            "5 - odd\n",
            "6 - even\n",
            "7 - odd\n",
            "8 - even\n",
            "9 - odd\n",
            "10 - even\n",
            "11 - odd\n",
            "12 - even\n",
            "13 - odd\n",
            "14 - even\n",
            "15 - odd\n"
          ]
        }
      ]
    },
    {
      "cell_type": "code",
      "source": [
        "#Q9\n",
        "def celsius_to_fahrenheit(c):\n",
        "  \"Converts Celsius to Fahrenheit.\"\n",
        "  return (c * 9/5) + 32\n",
        "\n",
        "def fahrenheit_to_celsius(f):\n",
        "  \"Converts Fahrenheit to Celsius.\"\n",
        "  return (f - 32) * 5/9\n",
        "\n",
        "temp_fahrenheit = float(input(\"Enter temperature in Fahrenheit: \"))\n",
        "\n",
        "temp_celsius = fahrenheit_to_celsius(temp_fahrenheit)\n",
        "\n",
        "print(\"Temperature in Celsius:\", (temp_celsius))"
      ],
      "metadata": {
        "colab": {
          "base_uri": "https://localhost:8080/"
        },
        "id": "u9geNgAnXfEt",
        "outputId": "e11b695f-48c2-45b2-d606-7ab3210c332d"
      },
      "execution_count": 57,
      "outputs": [
        {
          "output_type": "stream",
          "name": "stdout",
          "text": [
            "Enter temperature in Fahrenheit: 22\n",
            "Temperature in Celsius: -5.555555555555555\n"
          ]
        }
      ]
    },
    {
      "cell_type": "code",
      "source": [
        "#Q1O\n",
        "def factorial(n):\n",
        "  \"Calculates the factorial of a non-negative integer.\"\n",
        "  if n == 0:\n",
        "    return 1\n",
        "  else:\n",
        "    return n * factorial(n - 1)\n",
        "num = int(input(\"Enter a non-negative integer: \"))\n",
        "result = factorial(num)\n",
        "print(\"Factorial of\", num, \"is\", result)"
      ],
      "metadata": {
        "colab": {
          "base_uri": "https://localhost:8080/"
        },
        "id": "pyZuiOOEX_Db",
        "outputId": "a2315179-9865-4c14-8549-4e91ec2cde21"
      },
      "execution_count": 58,
      "outputs": [
        {
          "output_type": "stream",
          "name": "stdout",
          "text": [
            "Enter a non-negative integer: 5\n",
            "Factorial of 5 is 120\n"
          ]
        }
      ]
    },
    {
      "cell_type": "code",
      "source": [],
      "metadata": {
        "id": "kU7Y-D9OYk3A"
      },
      "execution_count": null,
      "outputs": []
    }
  ]
}